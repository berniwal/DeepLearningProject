{
 "cells": [
  {
   "cell_type": "code",
   "execution_count": 1,
   "metadata": {
    "colab": {
     "base_uri": "https://localhost:8080/",
     "height": 34
    },
    "colab_type": "code",
    "id": "gJ6RW9oGvXVH",
    "outputId": "fbb97072-b07a-4274-a80c-33244466833d"
   },
   "outputs": [],
   "source": [
    "import tensorflow as tf\n",
    "import os\n",
    "import string\n",
    "import io\n",
    "import time\n",
    "import numpy as np\n",
    "\n",
    "import matplotlib.pyplot as plt\n",
    "import matplotlib.ticker as ticker\n",
    "\n",
    "#This Notebook is based on the following Tensorflow Tutorial\n",
    "#We used the general ideas of the tutorial and adapted it to our problem setting\n",
    "#https://www.tensorflow.org/tutorials/text/nmt_with_attention"
   ]
  },
  {
   "cell_type": "code",
   "execution_count": 2,
   "metadata": {
    "colab": {
     "base_uri": "https://localhost:8080/",
     "height": 54
    },
    "colab_type": "code",
    "id": "XFQL_I51wwhE",
    "outputId": "fea6be27-423e-4924-b451-a27e7ae37fb4"
   },
   "outputs": [],
   "source": [
    "DIR_NAMES = ['train-easy/']\n",
    "FILE_NAMES = ['arithmetic__add_or_sub.txt']\n",
    "\n",
    "BUFFER_SIZE = 50000\n",
    "\n",
    "current_dir = os.getcwd()\n",
    "parent_dir = os.path.dirname(current_dir)\n",
    "dataset_dir = parent_dir + '/Dataset'\n",
    "\n",
    "# Based on https://www.tensorflow.org/tutorials/load_data/text\n",
    "# Read in all files which are in FILE_NAMES\n",
    "labeled_data_sets = []\n",
    "\n",
    "for file_name in FILE_NAMES:\n",
    "    for dir_name in DIR_NAMES:\n",
    "        concat_dir = os.path.join(dir_name, file_name)\n",
    "        lines_dataset = io.open(os.path.join(dataset_dir, concat_dir), encoding='UTF-8').read().strip().split('\\n')\n",
    "        labeled_data_sets.append(lines_dataset)\n",
    "        \n",
    "# Concatenate all File Data to one Big File Data\n",
    "all_labeled_data = labeled_data_sets[0]\n",
    "for labeled_dataset in labeled_data_sets[1:]:\n",
    "    all_labeled_data = all_labeled_data.concatenate(labeled_dataset)\n",
    " \n",
    "x_labels = all_labeled_data[::2]\n",
    "y_labels = all_labeled_data[1::2]\n",
    "\n",
    "MAX_QUESTION_LENGTH = 160\n",
    "MAX_ANSWER_LENGTH = 30\n",
    "\n",
    "#Build index for all characters which can appear, based on original code\n",
    "QUESTION_CHARS = ( ['', ' '] + list(string.ascii_letters + string.digits + string.punctuation))\n",
    "CHAR_TO_INDEX = {char: index for index, char in enumerate(QUESTION_CHARS)}\n",
    "INDEX_TO_CHAR = {index: char for index, char in enumerate(QUESTION_CHARS)}\n",
    "\n",
    "NUM_INDICES = len(QUESTION_CHARS)\n",
    "\n",
    "#Encode the Data\n",
    "x_labels_encoded = [[CHAR_TO_INDEX[z] for z in sentence] for sentence in x_labels]\n",
    "y_labels_encoded = [[CHAR_TO_INDEX[z] for z in sentence] for sentence in y_labels]"
   ]
  },
  {
   "cell_type": "code",
   "execution_count": 3,
   "metadata": {
    "colab": {
     "base_uri": "https://localhost:8080/",
     "height": 136
    },
    "colab_type": "code",
    "id": "hwuijynIwzZf",
    "outputId": "be8ba75a-8883-438a-aa47-724bf44c1921"
   },
   "outputs": [
    {
     "name": "stdout",
     "output_type": "stream",
     "text": [
      "Input Question\n",
      "What is -5 - 110911?\n",
      "Encoded Question\n",
      "[50, 9, 2, 21, 1, 10, 20, 1, 76, 59, 1, 76, 1, 55, 55, 54, 63, 55, 55, 84]\n",
      "Example Answer\n",
      "-110916\n",
      "Encoded Answer\n",
      "[76, 55, 55, 54, 63, 55, 60]\n"
     ]
    }
   ],
   "source": [
    "print('Input Question')\n",
    "print(x_labels[0])\n",
    "print('Encoded Question')\n",
    "print(x_labels_encoded[0])\n",
    "print('Example Answer')\n",
    "print(y_labels[0])\n",
    "print('Encoded Answer')\n",
    "print(y_labels_encoded[0])"
   ]
  },
  {
   "cell_type": "code",
   "execution_count": 4,
   "metadata": {
    "colab": {},
    "colab_type": "code",
    "id": "kGPbZgOQxA9v"
   },
   "outputs": [],
   "source": [
    "#Padding the Input Questions and Output Answers to the right length\n",
    "x_labels_padded = tf.keras.preprocessing.sequence.pad_sequences(x_labels_encoded, maxlen=MAX_QUESTION_LENGTH, value = 0, padding='post')\n",
    "y_labels_padded = tf.keras.preprocessing.sequence.pad_sequences(y_labels_encoded, maxlen=MAX_ANSWER_LENGTH, value = 0, padding='post')"
   ]
  },
  {
   "cell_type": "code",
   "execution_count": 5,
   "metadata": {
    "colab": {
     "base_uri": "https://localhost:8080/",
     "height": 187
    },
    "colab_type": "code",
    "id": "NKhUSU9GxDLN",
    "outputId": "6b49b230-27d0-4620-b3e8-ef9ccf7705c4"
   },
   "outputs": [
    {
     "name": "stdout",
     "output_type": "stream",
     "text": [
      "Padded Encoded Question\n",
      "[50  9  2 21  1 10 20  1 76 59  1 76  1 55 55 54 63 55 55 84  0  0  0  0\n",
      "  0  0  0  0  0  0  0  0  0  0  0  0  0  0  0  0  0  0  0  0  0  0  0  0\n",
      "  0  0  0  0  0  0  0  0  0  0  0  0  0  0  0  0  0  0  0  0  0  0  0  0\n",
      "  0  0  0  0  0  0  0  0  0  0  0  0  0  0  0  0  0  0  0  0  0  0  0  0\n",
      "  0  0  0  0  0  0  0  0  0  0  0  0  0  0  0  0  0  0  0  0  0  0  0  0\n",
      "  0  0  0  0  0  0  0  0  0  0  0  0  0  0  0  0  0  0  0  0  0  0  0  0\n",
      "  0  0  0  0  0  0  0  0  0  0  0  0  0  0  0  0]\n",
      "Padded Encoded Answer\n",
      "[76 55 55 54 63 55 60  0  0  0  0  0  0  0  0  0  0  0  0  0  0  0  0  0\n",
      "  0  0  0  0  0  0]\n"
     ]
    }
   ],
   "source": [
    "print('Padded Encoded Question')\n",
    "print(x_labels_padded[0])\n",
    "print('Padded Encoded Answer')\n",
    "print(y_labels_padded[0])"
   ]
  },
  {
   "cell_type": "code",
   "execution_count": 6,
   "metadata": {
    "colab": {},
    "colab_type": "code",
    "id": "k8UVeDnUxFT3"
   },
   "outputs": [],
   "source": [
    "TAKE_SIZE = 100000\n",
    "BUFFER_SIZE = 50000\n",
    "BATCH_SIZE = 128\n",
    "embedding_dim = 256\n",
    "steps_per_epoch = TAKE_SIZE//BATCH_SIZE\n",
    "units = 512\n",
    "\n",
    "vocab_inp_size = NUM_INDICES\n",
    "vocab_tar_size = NUM_INDICES\n",
    "\n",
    "#Define how many (TAKE SIZE) labels we want to use to train and form batches of size BATCH_SIZE\n",
    "dataset = tf.data.Dataset.from_tensor_slices((x_labels_padded, y_labels_padded)).take(TAKE_SIZE)\n",
    "dataset = dataset.batch(BATCH_SIZE, drop_remainder=True)"
   ]
  },
  {
   "cell_type": "code",
   "execution_count": 7,
   "metadata": {
    "colab": {},
    "colab_type": "code",
    "id": "husaG7_GxIMI"
   },
   "outputs": [],
   "source": [
    "class Encoder(tf.keras.Model):\n",
    "  def __init__(self, vocab_size, embedding_dim, enc_units, batch_sz):\n",
    "    super(Encoder, self).__init__()\n",
    "    self.batch_sz = batch_sz\n",
    "    self.enc_units = enc_units\n",
    "    self.embedding = tf.keras.layers.Embedding(vocab_size, embedding_dim)\n",
    "    self.gru = tf.keras.layers.GRU(self.enc_units,\n",
    "                                   return_sequences=True,\n",
    "                                   return_state=True,\n",
    "                                   recurrent_initializer='glorot_uniform')\n",
    "\n",
    "  def call(self, x, hidden):\n",
    "    x = self.embedding(x)\n",
    "    output, state = self.gru(x, initial_state = hidden)\n",
    "    return output, state\n",
    "\n",
    "  def initialize_hidden_state(self):\n",
    "    return tf.zeros((self.batch_sz, self.enc_units))"
   ]
  },
  {
   "cell_type": "code",
   "execution_count": 8,
   "metadata": {
    "colab": {},
    "colab_type": "code",
    "id": "HLKtmqtgxJWC"
   },
   "outputs": [],
   "source": [
    "encoder = Encoder(vocab_inp_size, embedding_dim, units, BATCH_SIZE)"
   ]
  },
  {
   "cell_type": "code",
   "execution_count": 9,
   "metadata": {
    "colab": {},
    "colab_type": "code",
    "id": "EgPtzdsLxUGc"
   },
   "outputs": [],
   "source": [
    "class BahdanauAttention(tf.keras.layers.Layer):\n",
    "  def __init__(self, units):\n",
    "    super(BahdanauAttention, self).__init__()\n",
    "    self.W1 = tf.keras.layers.Dense(units)\n",
    "    self.W2 = tf.keras.layers.Dense(units)\n",
    "    self.V = tf.keras.layers.Dense(1)\n",
    "\n",
    "  def call(self, query, values):\n",
    "    # hidden shape == (batch_size, hidden size)\n",
    "    # hidden_with_time_axis shape == (batch_size, 1, hidden size)\n",
    "    # we are doing this to perform addition to calculate the score\n",
    "    hidden_with_time_axis = tf.expand_dims(query, 1)\n",
    "\n",
    "    # score shape == (batch_size, max_length, 1)\n",
    "    # we get 1 at the last axis because we are applying score to self.V\n",
    "    # the shape of the tensor before applying self.V is (batch_size, max_length, units)\n",
    "    score = self.V(tf.nn.tanh(\n",
    "        self.W1(values) + self.W2(hidden_with_time_axis)))\n",
    "\n",
    "    # attention_weights shape == (batch_size, max_length, 1)\n",
    "    attention_weights = tf.nn.softmax(score, axis=1)\n",
    "\n",
    "    # context_vector shape after sum == (batch_size, hidden_size)\n",
    "    context_vector = attention_weights * values\n",
    "    context_vector = tf.reduce_sum(context_vector, axis=1)\n",
    "\n",
    "    return context_vector, attention_weights"
   ]
  },
  {
   "cell_type": "code",
   "execution_count": 10,
   "metadata": {
    "colab": {
     "base_uri": "https://localhost:8080/",
     "height": 51
    },
    "colab_type": "code",
    "id": "sYdR_udnxV1d",
    "outputId": "48c14b47-5053-4035-988c-7bf525346eeb"
   },
   "outputs": [],
   "source": [
    "attention_layer = BahdanauAttention(10)"
   ]
  },
  {
   "cell_type": "code",
   "execution_count": 11,
   "metadata": {
    "colab": {},
    "colab_type": "code",
    "id": "gkVgmNc9xbkI"
   },
   "outputs": [],
   "source": [
    "class Decoder(tf.keras.Model):\n",
    "  def __init__(self, vocab_size, embedding_dim, dec_units, batch_sz):\n",
    "    super(Decoder, self).__init__()\n",
    "    self.batch_sz = batch_sz\n",
    "    self.dec_units = dec_units\n",
    "    self.embedding = tf.keras.layers.Embedding(vocab_size, embedding_dim)\n",
    "    self.gru = tf.keras.layers.GRU(self.dec_units,\n",
    "                                   return_sequences=True,\n",
    "                                   return_state=True,\n",
    "                                   recurrent_initializer='glorot_uniform')\n",
    "    self.fc = tf.keras.layers.Dense(vocab_size)\n",
    "\n",
    "    # used for attention\n",
    "    self.attention = BahdanauAttention(self.dec_units)\n",
    "\n",
    "  def call(self, x, hidden, enc_output):\n",
    "    # enc_output shape == (batch_size, max_length, hidden_size)\n",
    "    context_vector, attention_weights = self.attention(hidden, enc_output)\n",
    "\n",
    "    # x shape after passing through embedding == (batch_size, 1, embedding_dim)\n",
    "    x = self.embedding(x)\n",
    "\n",
    "    # x shape after concatenation == (batch_size, 1, embedding_dim + hidden_size)\n",
    "    x = tf.concat([tf.expand_dims(context_vector, 1), x], axis=-1)\n",
    "\n",
    "    # passing the concatenated vector to the GRU\n",
    "    output, state = self.gru(x)\n",
    "\n",
    "    # output shape == (batch_size * 1, hidden_size)\n",
    "    output = tf.reshape(output, (-1, output.shape[2]))\n",
    "\n",
    "    # output shape == (batch_size, vocab)\n",
    "    x = self.fc(output)\n",
    "\n",
    "    return x, state, attention_weights"
   ]
  },
  {
   "cell_type": "code",
   "execution_count": 12,
   "metadata": {
    "colab": {
     "base_uri": "https://localhost:8080/",
     "height": 34
    },
    "colab_type": "code",
    "id": "tYNmiVwbxe8h",
    "outputId": "8c6b1b5b-ba49-48c4-9c84-edde62615b53"
   },
   "outputs": [],
   "source": [
    "decoder = Decoder(vocab_tar_size, embedding_dim, units, BATCH_SIZE)"
   ]
  },
  {
   "cell_type": "code",
   "execution_count": 13,
   "metadata": {
    "colab": {},
    "colab_type": "code",
    "id": "Zid-y78QxhAC"
   },
   "outputs": [],
   "source": [
    "optimizer = tf.keras.optimizers.Adam()\n",
    "loss_object = tf.keras.losses.SparseCategoricalCrossentropy(\n",
    "    from_logits=True, reduction='none')\n",
    "\n",
    "def loss_function(real, pred):\n",
    "  loss_ = loss_object(real, pred)\n",
    "  return tf.reduce_mean(loss_)"
   ]
  },
  {
   "cell_type": "code",
   "execution_count": 14,
   "metadata": {
    "colab": {},
    "colab_type": "code",
    "id": "i2AfjndQxkOL"
   },
   "outputs": [],
   "source": [
    "checkpoint_dir = './new_arithmetic_checkpoints'\n",
    "checkpoint_prefix = os.path.join(checkpoint_dir, \"ckpt\")\n",
    "checkpoint = tf.train.Checkpoint(optimizer=optimizer,\n",
    "                                 encoder=encoder,\n",
    "                                 decoder=decoder)"
   ]
  },
  {
   "cell_type": "code",
   "execution_count": 15,
   "metadata": {
    "colab": {},
    "colab_type": "code",
    "id": "FM0TK762xlzM"
   },
   "outputs": [],
   "source": [
    "@tf.function\n",
    "def train_step(inp, targ, enc_hidden):\n",
    "  loss = 0\n",
    "\n",
    "  with tf.GradientTape() as tape:\n",
    "    enc_output, enc_hidden = encoder(inp, enc_hidden)\n",
    "\n",
    "    dec_hidden = enc_hidden\n",
    "\n",
    "    dec_input = tf.expand_dims([CHAR_TO_INDEX['']] * BATCH_SIZE, 1)\n",
    "\n",
    "    # Teacher forcing - feeding the target as the next input\n",
    "    for t in range(1, targ.shape[1]):\n",
    "      # passing enc_output to the decoder\n",
    "      predictions, dec_hidden, _ = decoder(dec_input, dec_hidden, enc_output)\n",
    "\n",
    "      loss += loss_function(targ[:, t-1], predictions)\n",
    "\n",
    "      # using teacher forcing\n",
    "      dec_input = tf.expand_dims(targ[:, t-1], 1)\n",
    "\n",
    "  batch_loss = (loss / int(targ.shape[1]))\n",
    "\n",
    "  variables = encoder.trainable_variables + decoder.trainable_variables\n",
    "\n",
    "  gradients = tape.gradient(loss, variables)\n",
    "\n",
    "  optimizer.apply_gradients(zip(gradients, variables))\n",
    "\n",
    "  return batch_loss"
   ]
  },
  {
   "cell_type": "code",
   "execution_count": 16,
   "metadata": {
    "colab": {
     "base_uri": "https://localhost:8080/",
     "height": 391
    },
    "colab_type": "code",
    "id": "xTeNxK4bxnA7",
    "outputId": "b55efa35-844a-4c43-d5c3-5b4da5f07ce0"
   },
   "outputs": [],
   "source": [
    "TRAIN_FROM_CHECKPOINT = 0\n",
    "SKIP_TRAINING = 1\n",
    "\n",
    "latest_checkpoint_dir = './new_arithmetic_checkpoints'\n",
    "if(TRAIN_FROM_CHECKPOINT):\n",
    "    # restoring the latest checkpoint in checkpoint_dir\n",
    "    checkpoint.restore(tf.train.latest_checkpoint(latest_checkpoint_dir))\n",
    "\n",
    "if(not SKIP_TRAINING):\n",
    "    EPOCHS = 60\n",
    "\n",
    "    for epoch in range(EPOCHS):\n",
    "      start = time.time()\n",
    "\n",
    "      enc_hidden = encoder.initialize_hidden_state()\n",
    "      total_loss = 0\n",
    "\n",
    "      for (batch, (inp, targ)) in enumerate(dataset.take(steps_per_epoch)):\n",
    "        batch_loss = train_step(inp, targ, enc_hidden)\n",
    "        total_loss += batch_loss\n",
    "\n",
    "        if batch % 100 == 0:\n",
    "          print('Epoch {} Batch {} Loss {:.4f}'.format(epoch + 1,\n",
    "                                                       batch,\n",
    "                                                       batch_loss.numpy()))\n",
    "      # saving (checkpoint) the model every epochs\n",
    "\n",
    "      checkpoint.save(file_prefix = checkpoint_prefix)\n",
    "\n",
    "      print('Epoch {} Loss {:.4f}'.format(epoch + 1,\n",
    "                                          total_loss / steps_per_epoch))\n",
    "      print('Time taken for 1 epoch {} sec\\n'.format(time.time() - start))"
   ]
  },
  {
   "cell_type": "code",
   "execution_count": 17,
   "metadata": {
    "colab": {},
    "colab_type": "code",
    "id": "Y0FmDoxbxp-X"
   },
   "outputs": [],
   "source": [
    "def evaluate(sentence):\n",
    "  attention_plot = np.zeros((max_length_targ, max_length_inp))\n",
    "\n",
    "  inputs = [[CHAR_TO_INDEX[z] for z in sentence]]\n",
    "    \n",
    "  inputs = tf.keras.preprocessing.sequence.pad_sequences(inputs,\n",
    "                                                         maxlen=max_length_inp,\n",
    "                                                         value=0,\n",
    "                                                         padding='post')\n",
    "  inputs = tf.convert_to_tensor(inputs)\n",
    "\n",
    "  result = ''\n",
    "\n",
    "  hidden = [tf.zeros((1, units))]\n",
    "  enc_out, enc_hidden = encoder(inputs, hidden)\n",
    "\n",
    "  dec_hidden = enc_hidden\n",
    "  dec_input = tf.expand_dims([CHAR_TO_INDEX['']], 0)\n",
    "\n",
    "  for t in range(max_length_targ):\n",
    "    predictions, dec_hidden, attention_weights = decoder(dec_input,\n",
    "                                                         dec_hidden,\n",
    "                                                         enc_out)\n",
    "\n",
    "    # storing the attention weights to plot later on\n",
    "    attention_weights = tf.reshape(attention_weights, (-1, ))\n",
    "    attention_plot[t] = attention_weights.numpy()\n",
    "\n",
    "    predicted_id = tf.argmax(predictions[0]).numpy()\n",
    "\n",
    "    result += INDEX_TO_CHAR[predicted_id] #+ ' '\n",
    "\n",
    "    if INDEX_TO_CHAR[predicted_id] == '':\n",
    "      return result, sentence, attention_plot\n",
    "\n",
    "    # the predicted ID is fed back into the model\n",
    "    dec_input = tf.expand_dims([predicted_id], 0)\n",
    "\n",
    "  return result, sentence, attention_plot"
   ]
  },
  {
   "cell_type": "code",
   "execution_count": 18,
   "metadata": {
    "colab": {},
    "colab_type": "code",
    "id": "eodXGH9rymE_"
   },
   "outputs": [],
   "source": [
    "import random\n",
    "# function for plotting the attention weights\n",
    "def plot_attention(attention, sentence, predicted_sentence):\n",
    "  fig = plt.figure(figsize=(10,10))\n",
    "  ax = fig.add_subplot(1, 1, 1)\n",
    "  ax.matshow(attention, cmap='viridis')\n",
    "\n",
    "  fontdict = {'fontsize': 14}\n",
    "\n",
    "  ax.set_xticklabels([''] + sentence, fontdict=fontdict, rotation=90)\n",
    "  ax.set_yticklabels([''] + predicted_sentence, fontdict=fontdict)\n",
    "\n",
    "  ax.xaxis.set_major_locator(ticker.MultipleLocator(1))\n",
    "  ax.yaxis.set_major_locator(ticker.MultipleLocator(1))\n",
    "\n",
    "  random_number = random.random()\n",
    "    \n",
    "  #plt.savefig('arithmetic_add_or_sub_images/' + str(random_number) + '.png')\n",
    "  #plt.savefig('arithmetic_add_or_sub_images/' + str(random_number) + '.pdf') \n",
    "  plt.show()"
   ]
  },
  {
   "cell_type": "code",
   "execution_count": 19,
   "metadata": {
    "colab": {},
    "colab_type": "code",
    "id": "k5CCGGAOyoQB"
   },
   "outputs": [],
   "source": [
    "def translate(sentence):\n",
    "  result, sentence, attention_plot = evaluate(sentence)\n",
    "\n",
    "  print('Input: %s' % (sentence))\n",
    "  print('Predicted translation: {}'.format(result))\n",
    "\n",
    "  attention_plot = attention_plot[:len(list(result)), :len(list(sentence))]\n",
    "  plot_attention(attention_plot, list(sentence), list(result))"
   ]
  },
  {
   "cell_type": "code",
   "execution_count": 20,
   "metadata": {
    "colab": {
     "base_uri": "https://localhost:8080/",
     "height": 34
    },
    "colab_type": "code",
    "id": "UFvXnvzRyqPW",
    "outputId": "2c65f8a6-a860-4ba2-b887-25d3c4432de3"
   },
   "outputs": [
    {
     "data": {
      "text/plain": [
       "<tensorflow.python.training.tracking.util.CheckpointLoadStatus at 0x20d4bce8668>"
      ]
     },
     "execution_count": 20,
     "metadata": {},
     "output_type": "execute_result"
    }
   ],
   "source": [
    "decoder = Decoder(vocab_tar_size, embedding_dim, units, BATCH_SIZE)\n",
    "\n",
    "optimizer = tf.keras.optimizers.Adam()\n",
    "\n",
    "checkpoint_dir = './best_arithmetic__add_or_sub_model'\n",
    "\n",
    "checkpoint_prefix = os.path.join(checkpoint_dir, \"ckpt\")\n",
    "checkpoint = tf.train.Checkpoint(optimizer=optimizer,\n",
    "                                 encoder=encoder,\n",
    "                                 decoder=decoder)\n",
    "\n",
    "max_length_targ = MAX_ANSWER_LENGTH\n",
    "max_length_inp = MAX_QUESTION_LENGTH\n",
    "vocab_inp_size = NUM_INDICES\n",
    "vocab_tar_size = NUM_INDICES\n",
    "\n",
    "# restoring the latest checkpoint in checkpoint_dir\n",
    "checkpoint.restore(tf.train.latest_checkpoint(checkpoint_dir))"
   ]
  },
  {
   "cell_type": "code",
   "execution_count": 21,
   "metadata": {},
   "outputs": [],
   "source": [
    "#Predict and Check for Exact Match\n",
    "def testing(testset):\n",
    "    count = 0\n",
    "    exact_match = 0\n",
    "    for x, y in testset:\n",
    "        x = x.numpy().decode(\"utf-8\")\n",
    "        y = y.numpy().decode(\"utf-8\")\n",
    "\n",
    "        result, sentence, attention_plot = evaluate(x)\n",
    "\n",
    "        if(y == result):\n",
    "            exact_match = exact_match + 1\n",
    "        \n",
    "        count = count + 1\n",
    "        \n",
    "    return exact_match/count"
   ]
  },
  {
   "cell_type": "code",
   "execution_count": 22,
   "metadata": {},
   "outputs": [],
   "source": [
    "#Load in the train-medium and train-hard files (for extrapolation tests)\n",
    "\n",
    "DIR_NAMES_MEDIUM = ['train-medium/']\n",
    "\n",
    "DIR_NAMES_HARD = ['train-hard/']\n",
    "\n",
    "current_dir = os.getcwd()\n",
    "parent_dir = os.path.dirname(current_dir)\n",
    "dataset_dir = parent_dir + '/Dataset'\n",
    "\n",
    "# Based on https://www.tensorflow.org/tutorials/load_data/text\n",
    "# Read in all files which are in FILE_NAMES\n",
    "labeled_data_sets = []\n",
    "\n",
    "for file_name in FILE_NAMES:\n",
    "    for dir_name in DIR_NAMES_MEDIUM:\n",
    "        concat_dir = os.path.join(dir_name, file_name)\n",
    "        lines_dataset = io.open(os.path.join(dataset_dir, concat_dir), encoding='UTF-8').read().strip().split('\\n')\n",
    "        labeled_data_sets.append(lines_dataset)\n",
    "        \n",
    "# Concatenate all File Data to one Big File Data\n",
    "all_labeled_data = labeled_data_sets[0]\n",
    "for labeled_dataset in labeled_data_sets[1:]:\n",
    "    all_labeled_data = all_labeled_data.concatenate(labeled_dataset)\n",
    " \n",
    "x_labels_medium = all_labeled_data[::2]\n",
    "y_labels_medium = all_labeled_data[1::2]\n",
    "\n",
    "# Based on https://www.tensorflow.org/tutorials/load_data/text\n",
    "# Read in all files which are in FILE_NAMES\n",
    "labeled_data_sets = []\n",
    "\n",
    "for file_name in FILE_NAMES:\n",
    "    for dir_name in DIR_NAMES_HARD:\n",
    "        concat_dir = os.path.join(dir_name, file_name)\n",
    "        lines_dataset = io.open(os.path.join(dataset_dir, concat_dir), encoding='UTF-8').read().strip().split('\\n')\n",
    "        labeled_data_sets.append(lines_dataset)\n",
    "        \n",
    "# Concatenate all File Data to one Big File Data\n",
    "all_labeled_data = labeled_data_sets[0]\n",
    "for labeled_dataset in labeled_data_sets[1:]:\n",
    "    all_labeled_data = all_labeled_data.concatenate(labeled_dataset)\n",
    " \n",
    "x_labels_hard = all_labeled_data[::2]\n",
    "y_labels_hard = all_labeled_data[1::2]"
   ]
  },
  {
   "cell_type": "code",
   "execution_count": 23,
   "metadata": {
    "colab": {
     "base_uri": "https://localhost:8080/",
     "height": 272
    },
    "colab_type": "code",
    "id": "zIDXZcmny1Io",
    "outputId": "a142be3a-447c-4405-e298-9fc65434d509"
   },
   "outputs": [],
   "source": [
    "eval_train_set = tf.data.Dataset.from_tensor_slices((x_labels, y_labels)).take(100)\n",
    "eval_test_set = tf.data.Dataset.from_tensor_slices((x_labels, y_labels)).skip(TAKE_SIZE).take(100)\n",
    "eval_extrapolation_medium = tf.data.Dataset.from_tensor_slices((x_labels_medium, y_labels_medium)).take(100)\n",
    "eval_extrapolation_hard = tf.data.Dataset.from_tensor_slices((x_labels_hard, y_labels_hard)).take(100)\n",
    "\n",
    "#Loop through all checkpoints and test for train_set, test_set, extrapolation_medium, extrapolation_hard\n",
    "\n",
    "NOW_EVALUATING = 0\n",
    "\n",
    "if(NOW_EVALUATING):\n",
    "    basepath = './new_arithmetic_checkpoints/ckpt-'\n",
    "\n",
    "    match_metric = []\n",
    "    match_metric_test = []\n",
    "    match_metric_extrapolation_medium = []\n",
    "    match_metric_extrapolation_hard = []\n",
    "\n",
    "    for i in range(1,61):\n",
    "        ckppath = basepath + str(i)\n",
    "        checkpoint.restore(ckppath)\n",
    "        match_metric.append(testing(eval_train_set))\n",
    "        match_metric_test.append(testing(eval_test_set))\n",
    "        match_metric_extrapolation_medium.append(testing(eval_extrapolation_medium))\n",
    "        match_metric_extrapolation_hard.append(testing(eval_extrapolation_hard))\n",
    "        print(match_metric)\n",
    "        print(match_metric_test)\n",
    "        print(match_metric_extrapolation_medium)\n",
    "        print(match_metric_extrapolation_hard)"
   ]
  },
  {
   "cell_type": "code",
   "execution_count": 24,
   "metadata": {},
   "outputs": [],
   "source": [
    "#Load data from previous run\n",
    "match_metric = [0.0, 0.03, 0.1, 0.09, 0.4, 0.57, 0.67, 0.78, 0.79, 0.8, 0.84, 0.82, 0.86, 0.88, 0.89, 0.89, 0.85, 0.89, 0.92, 0.91, 0.96, 0.94, 0.93, 0.95, 0.97, 0.95, 0.91, 0.96, 0.93, 0.95, 0.96, 0.93, 0.96, 0.96, 0.73, 0.81, 0.89, 0.92, 0.9, 0.93, 0.93, 0.9, 0.94, 0.92, 0.94, 0.92, 0.9, 0.97, 0.97, 0.93, 0.97, 0.98, 0.96, 0.95, 0.99, 0.97, 0.97, 0.96, 0.97, 0.99]\n",
    "match_metric_test = [0.0, 0.0, 0.12, 0.16, 0.44, 0.68, 0.79, 0.8, 0.86, 0.86, 0.86, 0.89, 0.94, 0.9, 0.93, 0.91, 0.92, 0.96, 0.92, 0.9, 0.94, 0.96, 0.9, 0.93, 0.94, 0.94, 0.89, 0.93, 0.95, 0.95, 0.95, 0.93, 0.92, 0.9, 0.71, 0.78, 0.87, 0.89, 0.9, 0.91, 0.93, 0.94, 0.93, 0.95, 0.92, 0.93, 0.91, 0.93, 0.94, 0.93, 0.93, 0.93, 0.94, 0.88, 0.94, 0.92, 0.91, 0.94, 0.95, 0.94]\n",
    "match_metric_extrapolation_medium = [0.0, 0.0, 0.01, 0.03, 0.09, 0.23, 0.21, 0.27, 0.33, 0.36, 0.32, 0.36, 0.41, 0.36, 0.44, 0.41, 0.31, 0.41, 0.41, 0.4, 0.44, 0.48, 0.44, 0.46, 0.4, 0.46, 0.38, 0.49, 0.5, 0.45, 0.48, 0.52, 0.47, 0.44, 0.17, 0.22, 0.29, 0.34, 0.32, 0.33, 0.32, 0.37, 0.38, 0.37, 0.41, 0.36, 0.34, 0.4, 0.42, 0.44, 0.41, 0.42, 0.46, 0.45, 0.42, 0.4, 0.45, 0.47, 0.39, 0.39]\n",
    "match_metric_extrapolation_hard = [0.0, 0.0, 0.0, 0.0, 0.0, 0.0, 0.01, 0.0, 0.02, 0.02, 0.0, 0.01, 0.01, 0.01, 0.02, 0.0, 0.02, 0.02, 0.02, 0.02, 0.03, 0.03, 0.02, 0.0, 0.02, 0.03, 0.02, 0.03, 0.04, 0.03, 0.03, 0.03, 0.04, 0.03, 0.0, 0.0, 0.01, 0.01, 0.02, 0.01, 0.01, 0.02, 0.0, 0.01, 0.02, 0.02, 0.01, 0.01, 0.01, 0.0, 0.02, 0.03, 0.01, 0.01, 0.02, 0.01, 0.01, 0.03, 0.01, 0.01]"
   ]
  },
  {
   "cell_type": "code",
   "execution_count": 25,
   "metadata": {},
   "outputs": [
    {
     "data": {
      "image/png": "[encoded data removed]",
      "text/plain": [
       "<Figure size 432x288 with 1 Axes>"
      ]
     },
     "metadata": {
      "needs_background": "light"
     },
     "output_type": "display_data"
    }
   ],
   "source": [
    "t = np.arange(0, 60, 1)\n",
    "\n",
    "plt.xlabel('Epochs')\n",
    "plt.ylabel('Exact Matches')\n",
    "plt.plot(t, match_metric, \"r\", label=\"Train Set\")\n",
    "plt.plot(t, match_metric_test, \"g\", label=\"Test Set\")\n",
    "plt.plot(t, match_metric_extrapolation_medium, \"b\", label=\"Extrapolation Medium\")\n",
    "plt.plot(t, match_metric_extrapolation_hard, \"y\", label=\"Extrapolation Hard\")\n",
    "lgd = plt.legend(bbox_to_anchor=(1.05, 1), loc='upper left', borderaxespad=0.)\n",
    "#plt.savefig('artihmetic_add_or_sub2.png', bbox_extra_artists=(lgd,), bbox_inches='tight')\n",
    "#plt.savefig('arithmetic_add_or_sub2.pdf', bbox_extra_artists=(lgd,), bbox_inches='tight')\n",
    "plt.show()"
   ]
  },
  {
   "cell_type": "code",
   "execution_count": 26,
   "metadata": {},
   "outputs": [
    {
     "name": "stdout",
     "output_type": "stream",
     "text": [
      "54\n",
      "17\n",
      "31\n",
      "28\n"
     ]
    }
   ],
   "source": [
    "#Check which run is the best model for each case\n",
    "#Best Model\n",
    "print(match_metric.index(max(match_metric)))\n",
    "print(match_metric_test.index(max(match_metric_test)))\n",
    "print(match_metric_extrapolation_medium.index(max(match_metric_extrapolation_medium)))\n",
    "print(match_metric_extrapolation_hard.index(max(match_metric_extrapolation_hard)))"
   ]
  },
  {
   "cell_type": "code",
   "execution_count": 27,
   "metadata": {},
   "outputs": [
    {
     "name": "stdout",
     "output_type": "stream",
     "text": [
      "Input: What is -5 - 110911?\n",
      "Predicted translation: -110916\n"
     ]
    },
    {
     "data": {
      "image/png": "[encoded data removed]",
      "text/plain": [
       "<Figure size 720x720 with 1 Axes>"
      ]
     },
     "metadata": {
      "needs_background": "light"
     },
     "output_type": "display_data"
    },
    {
     "name": "stdout",
     "output_type": "stream",
     "text": [
      "Input: What is -0.188 + -0.814?\n",
      "Predicted translation: -1.002\n"
     ]
    },
    {
     "data": {
      "image/png": "[encoded data removed]",
      "text/plain": [
       "<Figure size 720x720 with 1 Axes>"
      ]
     },
     "metadata": {
      "needs_background": "light"
     },
     "output_type": "display_data"
    },
    {
     "name": "stdout",
     "output_type": "stream",
     "text": [
      "Input: Sum 259 and -46.\n",
      "Predicted translation: 213\n"
     ]
    },
    {
     "data": {
      "image/png": "[encoded data removed]",
      "text/plain": [
       "<Figure size 720x720 with 1 Axes>"
      ]
     },
     "metadata": {
      "needs_background": "light"
     },
     "output_type": "display_data"
    },
    {
     "name": "stdout",
     "output_type": "stream",
     "text": [
      "Input: Sum -10 and -52539.\n",
      "Predicted translation: -52549\n"
     ]
    },
    {
     "data": {
      "image/png": "[encoded data removed]",
      "text/plain": [
       "<Figure size 720x720 with 1 Axes>"
      ]
     },
     "metadata": {
      "needs_background": "light"
     },
     "output_type": "display_data"
    },
    {
     "name": "stdout",
     "output_type": "stream",
     "text": [
      "Input: What is the difference between -2 and 251860?\n",
      "Predicted translation: 251862\n"
     ]
    },
    {
     "data": {
      "image/png": "[encoded data removed]",
      "text/plain": [
       "<Figure size 720x720 with 1 Axes>"
      ]
     },
     "metadata": {
      "needs_background": "light"
     },
     "output_type": "display_data"
    }
   ],
   "source": [
    "# restoring the latest checkpoint in checkpoint_dir\n",
    "checkpoint.restore(tf.train.latest_checkpoint(checkpoint_dir))\n",
    "\n",
    "#Make sample predictions of Trainset and Evaluate\n",
    "count = 0\n",
    "for x, y in eval_train_set:\n",
    "  x = x.numpy().decode(\"utf-8\")\n",
    "  y = y.numpy().decode(\"utf-8\")\n",
    "    \n",
    "  translate(x)\n",
    "\n",
    "  count = count + 1\n",
    "  if(count == 5):\n",
    "    break"
   ]
  },
  {
   "cell_type": "code",
   "execution_count": 28,
   "metadata": {},
   "outputs": [
    {
     "name": "stdout",
     "output_type": "stream",
     "text": [
      "Input: Put together -4 and -0.1126.\n",
      "Predicted translation: -4.1126\n"
     ]
    },
    {
     "data": {
      "image/png": "[encoded data removed]",
      "text/plain": [
       "<Figure size 720x720 with 1 Axes>"
      ]
     },
     "metadata": {
      "needs_background": "light"
     },
     "output_type": "display_data"
    },
    {
     "name": "stdout",
     "output_type": "stream",
     "text": [
      "Input: What is -0.5 + -3.116?\n",
      "Predicted translation: -3.616\n"
     ]
    },
    {
     "data": {
      "image/png": "[encoded data removed]",
      "text/plain": [
       "<Figure size 720x720 with 1 Axes>"
      ]
     },
     "metadata": {
      "needs_background": "light"
     },
     "output_type": "display_data"
    },
    {
     "name": "stdout",
     "output_type": "stream",
     "text": [
      "Input: Sum -0.2 and -4.98.\n",
      "Predicted translation: -5.18\n"
     ]
    },
    {
     "data": {
      "image/png": "[encoded data removed]",
      "text/plain": [
       "<Figure size 720x720 with 1 Axes>"
      ]
     },
     "metadata": {
      "needs_background": "light"
     },
     "output_type": "display_data"
    },
    {
     "name": "stdout",
     "output_type": "stream",
     "text": [
      "Input: Add 5 and 1753.\n",
      "Predicted translation: 1758\n"
     ]
    },
    {
     "data": {
      "image/png": "[encoded data removed]",
      "text/plain": [
       "<Figure size 720x720 with 1 Axes>"
      ]
     },
     "metadata": {
      "needs_background": "light"
     },
     "output_type": "display_data"
    },
    {
     "name": "stdout",
     "output_type": "stream",
     "text": [
      "Input: Calculate -0.315 - 390.\n",
      "Predicted translation: -390.315\n"
     ]
    },
    {
     "data": {
      "image/png": "[encoded data removed]",
      "text/plain": [
       "<Figure size 720x720 with 1 Axes>"
      ]
     },
     "metadata": {
      "needs_background": "light"
     },
     "output_type": "display_data"
    }
   ],
   "source": [
    "# restoring the latest checkpoint in checkpoint_dir\n",
    "checkpoint.restore(tf.train.latest_checkpoint(checkpoint_dir))\n",
    "\n",
    "#Make sample predictions of Testset\n",
    "count = 0\n",
    "for x, y in eval_test_set:\n",
    "  x = x.numpy().decode(\"utf-8\")\n",
    "  y = y.numpy().decode(\"utf-8\")\n",
    "    \n",
    "  translate(x)\n",
    "\n",
    "  count = count + 1\n",
    "  if(count == 5):\n",
    "    break"
   ]
  },
  {
   "cell_type": "code",
   "execution_count": 29,
   "metadata": {},
   "outputs": [
    {
     "name": "stdout",
     "output_type": "stream",
     "text": [
      "Input: Total of 0.06 and -1977321735.\n",
      "Predicted translation: -1977321326.94\n"
     ]
    },
    {
     "data": {
      "image/png": "[encoded data removed]",
      "text/plain": [
       "<Figure size 720x720 with 1 Axes>"
      ]
     },
     "metadata": {
      "needs_background": "light"
     },
     "output_type": "display_data"
    },
    {
     "name": "stdout",
     "output_type": "stream",
     "text": [
      "Input: Add together 2 and 436273715.\n",
      "Predicted translation: 43627377\n"
     ]
    },
    {
     "data": {
      "image/png": "[encoded data removed]",
      "text/plain": [
       "<Figure size 720x720 with 1 Axes>"
      ]
     },
     "metadata": {
      "needs_background": "light"
     },
     "output_type": "display_data"
    },
    {
     "name": "stdout",
     "output_type": "stream",
     "text": [
      "Input: Calculate 4062037 + -0.07.\n",
      "Predicted translation: 4062036.93\n"
     ]
    },
    {
     "data": {
      "image/png": "[encoded data removed]",
      "text/plain": [
       "<Figure size 720x720 with 1 Axes>"
      ]
     },
     "metadata": {
      "needs_background": "light"
     },
     "output_type": "display_data"
    },
    {
     "name": "stdout",
     "output_type": "stream",
     "text": [
      "Input: What is the difference between -57 and -18192.801?\n",
      "Predicted translation: 88135.81\n"
     ]
    },
    {
     "data": {
      "image/png": "[encoded data removed]",
      "text/plain": [
       "<Figure size 720x720 with 1 Axes>"
      ]
     },
     "metadata": {
      "needs_background": "light"
     },
     "output_type": "display_data"
    },
    {
     "name": "stdout",
     "output_type": "stream",
     "text": [
      "Input: 2.427689 - -30925\n",
      "Predicted translation: 30927.427689\n"
     ]
    },
    {
     "data": {
      "image/png": "[encoded data removed]",
      "text/plain": [
       "<Figure size 720x720 with 1 Axes>"
      ]
     },
     "metadata": {
      "needs_background": "light"
     },
     "output_type": "display_data"
    }
   ],
   "source": [
    "# restoring the latest checkpoint in checkpoint_dir\n",
    "checkpoint.restore(tf.train.latest_checkpoint(checkpoint_dir))\n",
    "\n",
    "#Make sample predictions of Extrapolation Medium and plot it\n",
    "count = 0\n",
    "for x, y in eval_extrapolation_medium:\n",
    "  x = x.numpy().decode(\"utf-8\")\n",
    "  y = y.numpy().decode(\"utf-8\")\n",
    "    \n",
    "  translate(x)\n",
    "\n",
    "  count = count + 1\n",
    "  if(count == 5):\n",
    "    break"
   ]
  },
  {
   "cell_type": "code",
   "execution_count": 30,
   "metadata": {},
   "outputs": [
    {
     "name": "stdout",
     "output_type": "stream",
     "text": [
      "Input: Work out -0.5 - -1782838373837.\n",
      "Predicted translation: 17828387.5\n"
     ]
    },
    {
     "data": {
      "image/png": "[encoded data removed]",
      "text/plain": [
       "<Figure size 720x720 with 1 Axes>"
      ]
     },
     "metadata": {
      "needs_background": "light"
     },
     "output_type": "display_data"
    },
    {
     "name": "stdout",
     "output_type": "stream",
     "text": [
      "Input: What is 59086632155.4 + -3?\n",
      "Predicted translation: 59086632.4\n"
     ]
    },
    {
     "data": {
      "image/png": "[encoded data removed]",
      "text/plain": [
       "<Figure size 720x720 with 1 Axes>"
      ]
     },
     "metadata": {
      "needs_background": "light"
     },
     "output_type": "display_data"
    },
    {
     "name": "stdout",
     "output_type": "stream",
     "text": [
      "Input: Total of 9207641 and -0.541.\n",
      "Predicted translation: 9207640.459\n"
     ]
    },
    {
     "data": {
      "image/png": "[encoded data removed]",
      "text/plain": [
       "<Figure size 720x720 with 1 Axes>"
      ]
     },
     "metadata": {
      "needs_background": "light"
     },
     "output_type": "display_data"
    },
    {
     "name": "stdout",
     "output_type": "stream",
     "text": [
      "Input: What is the difference between 173.47 and -272507015.8?\n",
      "Predicted translation: 27360908.2\n"
     ]
    },
    {
     "data": {
      "image/png": "[encoded data removed]",
      "text/plain": [
       "<Figure size 720x720 with 1 Axes>"
      ]
     },
     "metadata": {
      "needs_background": "light"
     },
     "output_type": "display_data"
    },
    {
     "name": "stdout",
     "output_type": "stream",
     "text": [
      "Input: Add together -4.154 and -1947579961.4.\n",
      "Predicted translation: -19475800000000000000000000000\n"
     ]
    },
    {
     "data": {
      "image/png": "[encoded data removed]",
      "text/plain": [
       "<Figure size 720x720 with 1 Axes>"
      ]
     },
     "metadata": {
      "needs_background": "light"
     },
     "output_type": "display_data"
    }
   ],
   "source": [
    "# restoring the latest checkpoint in checkpoint_dir\n",
    "checkpoint.restore(tf.train.latest_checkpoint(checkpoint_dir))\n",
    "\n",
    "#Make sample predictions of Extrapolation Hard and plot it\n",
    "count = 0\n",
    "for x, y in eval_extrapolation_hard:\n",
    "  x = x.numpy().decode(\"utf-8\")\n",
    "  y = y.numpy().decode(\"utf-8\")\n",
    "    \n",
    "  translate(x)\n",
    "\n",
    "  count = count + 1\n",
    "  if(count == 5):\n",
    "    break"
   ]
  }
 ],
 "metadata": {
  "accelerator": "GPU",
  "colab": {
   "collapsed_sections": [],
   "name": "DeepLearningProject.ipynb",
   "provenance": []
  },
  "kernelspec": {
   "display_name": "Python 3",
   "language": "python",
   "name": "python3"
  },
  "language_info": {
   "codemirror_mode": {
    "name": "ipython",
    "version": 3
   },
   "file_extension": ".py",
   "mimetype": "text/x-python",
   "name": "python",
   "nbconvert_exporter": "python",
   "pygments_lexer": "ipython3",
   "version": "3.6.8"
  }
 },
 "nbformat": 4,
 "nbformat_minor": 1
}
