{
 "cells": [
  {
   "cell_type": "code",
   "execution_count": 93,
   "metadata": {},
   "outputs": [],
   "source": [
    "#https://blog.keras.io/a-ten-minute-introduction-to-sequence-to-sequence-learning-in-keras.html\n",
    "import tensorflow as tf\n",
    "import tensorflow.keras as keras\n",
    "from tensorflow.keras.models import Model\n",
    "from tensorflow.keras.layers import Input, LSTM, Dense\n",
    "import numpy as np\n",
    "\n",
    "import os\n",
    "import string"
   ]
  },
  {
   "cell_type": "code",
   "execution_count": 80,
   "metadata": {},
   "outputs": [
    {
     "name": "stdout",
     "output_type": "stream",
     "text": [
      "<BatchDataset shapes: (((None, 160, 96), (None, 30, 96)), (None, 30, 96)), types: ((tf.float32, tf.float32), tf.float32)>\n"
     ]
    }
   ],
   "source": [
    "DIR_NAMES = ['train-easy/']\n",
    "FILE_NAMES = ['algebra__linear_1d.txt']\n",
    "\n",
    "BUFFER_SIZE = 50000\n",
    "\n",
    "current_dir = os.getcwd()\n",
    "parent_dir = os.path.dirname(current_dir)\n",
    "dataset_dir = parent_dir + '/Dataset'\n",
    "\n",
    "# Based on https://www.tensorflow.org/tutorials/load_data/text\n",
    "# Read in all files which are in FILE_NAMES\n",
    "labeled_data_sets = []\n",
    "\n",
    "for file_name in FILE_NAMES:\n",
    "    for dir_name in DIR_NAMES:\n",
    "        concat_dir = os.path.join(dir_name, file_name)\n",
    "        lines_dataset = tf.data.TextLineDataset(\n",
    "            os.path.join(dataset_dir, concat_dir)\n",
    "        )\n",
    "        labeled_data_sets.append(lines_dataset)\n",
    "        \n",
    "# Concatenate all File Data to one Big File Data\n",
    "all_labeled_data = labeled_data_sets[0]\n",
    "for labeled_dataset in labeled_data_sets[1:]:\n",
    "    all_labeled_data = all_labeled_data.concatenate(labeled_dataset)\n",
    "    \n",
    "# Group Data as batches of two (input_sentence, answer)\n",
    "all_labeled_data = all_labeled_data.batch(2)\n",
    "\n",
    "# Shuffle the Data\n",
    "all_labeled_data = all_labeled_data.shuffle(\n",
    "        BUFFER_SIZE,\n",
    "        reshuffle_each_iteration=False\n",
    ")\n",
    "\n",
    "#Same Code as in Data Generation\n",
    "MAX_QUESTION_LENGTH = 160\n",
    "MAX_ANSWER_LENGTH = 30\n",
    "ENCODING_LSTM_LENGTH = 512\n",
    "DECODING_LSTM_LENGTH = 2048\n",
    "QUESTION_CHARS = ( ['', ' '] + list(string.ascii_letters + string.digits + string.punctuation))\n",
    "CHAR_TO_INDEX = {char: index for index, char in enumerate(QUESTION_CHARS)}\n",
    "INDEX_TO_CHAR = {index: char for index, char in enumerate(QUESTION_CHARS)}\n",
    "\n",
    "NUM_INDICES = len(QUESTION_CHARS)\n",
    "\n",
    "def encode_data(x):\n",
    "    x_encoded = [CHAR_TO_INDEX[z] for z in x.numpy().decode('utf-8')]\n",
    "    x_one_hot = keras.utils.to_categorical(x_encoded, num_classes=NUM_INDICES, dtype='float32')\n",
    "    \n",
    "    return x_one_hot\n",
    "\n",
    "def input_padding(tensor, desired_dimension, shift):   \n",
    "\n",
    "    current_rows, current_cols = tf.shape(tensor)\n",
    "    \n",
    "    if(desired_dimension - current_rows > 0):\n",
    "        padding = tf.zeros([desired_dimension - current_rows,NUM_INDICES - 1], dtype = tensor.dtype)\n",
    "        padding_ones = tf.ones([desired_dimension - current_rows, 1], dtype =tensor.dtype)\n",
    "        complete_padding = tf.concat([padding_ones, padding], 1)\n",
    "        tensor = tf.concat([tensor, complete_padding], 0)\n",
    "        \n",
    "    if(shift):\n",
    "        shift_tensor = tf.zeros([shift, NUM_INDICES -1], dtype = tensor.dtype)\n",
    "        shift_tensor_ones = tf.ones([shift, 1], dtype = tensor.dtype)\n",
    "        shift_tensor = tf.concat([shift_tensor_ones, shift_tensor], 1)\n",
    "        tensor = tf.concat([shift_tensor, tensor[:-shift]], 0)\n",
    "        \n",
    "    return tensor\n",
    "\n",
    "def map_encode_data(x, reqlength, shift, index):\n",
    "    x_one_hot = tf.py_function(encode_data, inp=[x[index]], Tout=(tf.float32))\n",
    "    \n",
    "    x_one_hot = tf.py_function(input_padding, inp=[x_one_hot, reqlength, shift], Tout=(tf.float32))\n",
    "    \n",
    "    x_one_hot.set_shape([reqlength,NUM_INDICES])\n",
    "    \n",
    "    return x_one_hot\n",
    "\n",
    "encoder_input_data = all_labeled_data.map(lambda x: map_encode_data(x, MAX_QUESTION_LENGTH, 0, 0))\n",
    "\n",
    "decoder_input_data = all_labeled_data.map(lambda x: map_encode_data(x, MAX_ANSWER_LENGTH, 1, 1))\n",
    "\n",
    "decoder_target_data = all_labeled_data.map(lambda x: map_encode_data(x, MAX_ANSWER_LENGTH, 0, 1))\n",
    "\n",
    "dataset_input = tf.data.Dataset.zip((encoder_input_data, decoder_input_data))\n",
    "\n",
    "dataset = tf.data.Dataset.zip((dataset_input, decoder_target_data))\n",
    "\n",
    "dataset = dataset.take(20000).batch(256)\n",
    "\n",
    "print(dataset)"
   ]
  },
  {
   "cell_type": "code",
   "execution_count": 81,
   "metadata": {},
   "outputs": [
    {
     "name": "stdout",
     "output_type": "stream",
     "text": [
      "Model: \"model_15\"\n",
      "__________________________________________________________________________________________________\n",
      "Layer (type)                    Output Shape         Param #     Connected to                     \n",
      "==================================================================================================\n",
      "input_39 (InputLayer)           [(None, None, 96)]   0                                            \n",
      "__________________________________________________________________________________________________\n",
      "input_40 (InputLayer)           [(None, None, 96)]   0                                            \n",
      "__________________________________________________________________________________________________\n",
      "lstm_38 (LSTM)                  [(None, 512), (None, 1247232     input_39[0][0]                   \n",
      "__________________________________________________________________________________________________\n",
      "lstm_39 (LSTM)                  [(None, None, 512),  1247232     input_40[0][0]                   \n",
      "                                                                 lstm_38[0][1]                    \n",
      "                                                                 lstm_38[0][2]                    \n",
      "__________________________________________________________________________________________________\n",
      "dense_14 (Dense)                (None, None, 96)     49248       lstm_39[0][0]                    \n",
      "==================================================================================================\n",
      "Total params: 2,543,712\n",
      "Trainable params: 2,543,712\n",
      "Non-trainable params: 0\n",
      "__________________________________________________________________________________________________\n",
      "None\n"
     ]
    }
   ],
   "source": [
    "# Define an input sequence and process it.\n",
    "encoder_inputs = Input(shape=(None, NUM_INDICES))\n",
    "encoder = LSTM(ENCODING_LSTM_LENGTH, return_state=True)\n",
    "encoder_outputs, state_h, state_c = encoder(encoder_inputs)\n",
    "# We discard `encoder_outputs` and only keep the states.\n",
    "encoder_states = [state_h, state_c]\n",
    "\n",
    "# Set up the decoder, using `encoder_states` as initial state.\n",
    "decoder_inputs = Input(shape=(None, NUM_INDICES))\n",
    "# We set up our decoder to return full output sequences,\n",
    "# and to return internal states as well. We don't use the \n",
    "# return states in the training model, but we will use them in inference.\n",
    "decoder_lstm = LSTM(ENCODING_LSTM_LENGTH, return_sequences=True, return_state=True)\n",
    "decoder_outputs, _, _ = decoder_lstm(decoder_inputs,\n",
    "                                     initial_state=encoder_states)\n",
    "decoder_dense = Dense(NUM_INDICES, activation='softmax')\n",
    "decoder_outputs = decoder_dense(decoder_outputs)\n",
    "\n",
    "# Define the model that will turn\n",
    "# `encoder_input_data` & `decoder_input_data` into `decoder_target_data`\n",
    "model = Model([encoder_inputs, decoder_inputs], decoder_outputs)\n",
    "\n",
    "# Run training\n",
    "model.compile(optimizer='rmsprop', loss='categorical_crossentropy')\n",
    "print(model.summary())"
   ]
  },
  {
   "cell_type": "code",
   "execution_count": 82,
   "metadata": {},
   "outputs": [
    {
     "name": "stdout",
     "output_type": "stream",
     "text": [
      "Epoch 1/3\n",
      "40/40 [==============================] - 230s 6s/step - loss: 0.3325\n",
      "Epoch 2/3\n",
      "40/40 [==============================] - 290s 7s/step - loss: 0.1212\n",
      "Epoch 3/3\n",
      "40/40 [==============================] - 299s 7s/step - loss: 0.1165\n"
     ]
    },
    {
     "data": {
      "text/plain": [
       "<tensorflow.python.keras.callbacks.History at 0x24f6e99f198>"
      ]
     },
     "execution_count": 82,
     "metadata": {},
     "output_type": "execute_result"
    }
   ],
   "source": [
    "EPOCHS = 10\n",
    "\n",
    "model.fit(dataset,\n",
    "          epochs=EPOCHS\n",
    "         )"
   ]
  },
  {
   "cell_type": "code",
   "execution_count": 105,
   "metadata": {},
   "outputs": [],
   "source": [
    "encoder_model = Model(encoder_inputs, encoder_states)\n",
    "\n",
    "decoder_state_input_h = Input(shape=(ENCODING_LSTM_LENGTH,))\n",
    "decoder_state_input_c = Input(shape=(ENCODING_LSTM_LENGTH,))\n",
    "decoder_states_inputs = [decoder_state_input_h, decoder_state_input_c]\n",
    "decoder_outputs, state_h, state_c = decoder_lstm(\n",
    "    decoder_inputs, initial_state=decoder_states_inputs)\n",
    "decoder_states = [state_h, state_c]\n",
    "decoder_outputs = decoder_dense(decoder_outputs)\n",
    "decoder_model = Model(\n",
    "    [decoder_inputs] + decoder_states_inputs,\n",
    "    [decoder_outputs] + decoder_states)"
   ]
  },
  {
   "cell_type": "code",
   "execution_count": 113,
   "metadata": {},
   "outputs": [],
   "source": [
    "def decode_sequence(input_seq):\n",
    "    # Encode the input as state vectors.\n",
    "    states_value = encoder_model.predict(input_seq)\n",
    "\n",
    "    # Generate empty target sequence of length 1.\n",
    "    target_seq = np.zeros((1, 1, NUM_INDICES))\n",
    "    # Populate the first character of target sequence with the start character.\n",
    "    target_seq[0, 0, 0] = 1.\n",
    "\n",
    "    # Sampling loop for a batch of sequences\n",
    "    # (to simplify, here we assume a batch of size 1).\n",
    "    stop_condition = False\n",
    "    decoded_sentence = ''\n",
    "    while not stop_condition:\n",
    "        output_tokens, h, c = decoder_model.predict(\n",
    "            [target_seq] + states_value)\n",
    "\n",
    "        # Sample a token\n",
    "        sampled_token_index = np.argmax(output_tokens[0, -1, :])\n",
    "        sampled_char = INDEX_TO_CHAR[sampled_token_index]\n",
    "        decoded_sentence += sampled_char\n",
    "        \n",
    "        # Exit condition: either hit max length\n",
    "        # or find stop character.\n",
    "        if (sampled_char == '' or\n",
    "           len(decoded_sentence) > MAX_ANSWER_LENGTH):\n",
    "            stop_condition = True\n",
    "\n",
    "        # Update the target sequence (of length 1).\n",
    "        target_seq = np.zeros((1, 1, NUM_INDICES))\n",
    "        target_seq[0, 0, sampled_token_index] = 1.\n",
    "\n",
    "        # Update states\n",
    "        states_value = [h, c]\n",
    "\n",
    "    return decoded_sentence"
   ]
  },
  {
   "cell_type": "code",
   "execution_count": 117,
   "metadata": {},
   "outputs": [
    {
     "name": "stdout",
     "output_type": "stream",
     "text": [
      "tf.Tensor([b'Solve -10*g = 52 - 32 for g.' b'-2'], shape=(2,), dtype=string)\n"
     ]
    },
    {
     "data": {
      "text/plain": [
       "'-'"
      ]
     },
     "execution_count": 117,
     "metadata": {},
     "output_type": "execute_result"
    }
   ],
   "source": [
    "x = encoder_input_data.take(1).batch(1)\n",
    "print(next(iter(all_labeled_data)))\n",
    "decode_sequence(x)"
   ]
  },
  {
   "cell_type": "code",
   "execution_count": null,
   "metadata": {},
   "outputs": [],
   "source": []
  },
  {
   "cell_type": "code",
   "execution_count": null,
   "metadata": {},
   "outputs": [],
   "source": []
  }
 ],
 "metadata": {
  "kernelspec": {
   "display_name": "Python 3",
   "language": "python",
   "name": "python3"
  },
  "language_info": {
   "codemirror_mode": {
    "name": "ipython",
    "version": 3
   },
   "file_extension": ".py",
   "mimetype": "text/x-python",
   "name": "python",
   "nbconvert_exporter": "python",
   "pygments_lexer": "ipython3",
   "version": "3.6.8"
  }
 },
 "nbformat": 4,
 "nbformat_minor": 2
}
