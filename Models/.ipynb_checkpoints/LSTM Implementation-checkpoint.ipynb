{
 "cells": [
  {
   "cell_type": "code",
   "execution_count": 1,
   "metadata": {},
   "outputs": [
    {
     "name": "stderr",
     "output_type": "stream",
     "text": [
      "/home/bernhard/anaconda3/lib/python3.6/site-packages/h5py/__init__.py:36: FutureWarning: Conversion of the second argument of issubdtype from `float` to `np.floating` is deprecated. In future, it will be treated as `np.float64 == np.dtype(float).type`.\n",
      "  from ._conv import register_converters as _register_converters\n"
     ]
    }
   ],
   "source": [
    "#Do all necessary imports\n",
    "\n",
    "import tensorflow as tf\n",
    "import tensorflow_datasets as tfds\n",
    "import os"
   ]
  },
  {
   "cell_type": "code",
   "execution_count": 128,
   "metadata": {},
   "outputs": [
    {
     "name": "stdout",
     "output_type": "stream",
     "text": [
      "tf.Tensor(\n",
      "[[0 0 0 ... 0 0 0]\n",
      " [0 0 0 ... 0 0 0]\n",
      " [0 0 0 ... 0 0 0]\n",
      " ...\n",
      " [1 0 0 ... 0 0 0]\n",
      " [0 0 0 ... 0 0 0]\n",
      " [0 0 0 ... 0 0 0]], shape=(30, 80), dtype=int32)\n",
      "tf.Tensor(\n",
      "[[0 0 0 0 0 0 0 0 0 0 0 0 0 0 0 0 0 0 0 0 0 0 0 0 0 0 0 0 0 0 0 0 0 0 0 0\n",
      "  0 0 0 0 0 0 0 0 0 0 0 0 0 0 0 0 0 0 0 0 0 0 0 0 0 0 0 0 0 1 0 0 0 0 0 0\n",
      "  0 0 0 0 0 0 0 0]\n",
      " [0 0 0 0 0 0 0 0 0 0 0 0 0 0 0 0 0 0 0 0 0 0 0 0 0 0 0 0 0 0 0 0 0 0 0 0\n",
      "  0 0 0 0 0 0 0 0 0 0 0 0 0 0 0 0 0 0 0 0 0 0 1 0 0 0 0 0 0 0 0 0 0 0 0 0\n",
      "  0 0 0 0 0 0 0 0]], shape=(2, 80), dtype=int32)\n"
     ]
    }
   ],
   "source": [
    "# Import Data\n",
    "\n",
    "DIR_NAMES =['train-easy/', 'train-medium/', 'train-hard']\n",
    "FILE_NAMES = ['algebra__linear_1d.txt']\n",
    "\n",
    "BUFFER_SIZE = 50000\n",
    "\n",
    "current_dir = os.getcwd()\n",
    "parent_dir = os.path.dirname(current_dir)\n",
    "dataset_dir = parent_dir + '/Dataset'\n",
    "\n",
    "# Based on https://www.tensorflow.org/tutorials/load_data/text\n",
    "\n",
    "# Read in all files which are in FILE_NAMES \n",
    "\n",
    "labeled_data_sets = []\n",
    "\n",
    "\n",
    "for file_name in FILE_NAMES:\n",
    "    for dir_name in DIR_NAMES:\n",
    "        concat_dir = os.path.join(dir_name,file_name)\n",
    "        lines_dataset = tf.data.TextLineDataset(os.path.join(dataset_dir, concat_dir))\n",
    "        labeled_data_sets.append(lines_dataset)\n",
    "\n",
    "# Concatenate all File Data to one Big File Data\n",
    "\n",
    "all_labeled_data = labeled_data_sets[0]\n",
    "for labeled_dataset in labeled_data_sets[1:]:\n",
    "    all_labeled_data = all_labeled_data.concatenate(labeled_dataset)\n",
    "    \n",
    "# Group Data as batches of two (input_sentence, answer)\n",
    "\n",
    "all_labeled_data = all_labeled_data.batch(2)\n",
    "\n",
    "# Make two independent Tensors as Tuple (Not needed)\n",
    "\n",
    "# all_labeled_data = all_labeled_data.map(lambda x: (x[0], x[1]))\n",
    "\n",
    "# Shuffle the Data\n",
    "\n",
    "all_labeled_data = all_labeled_data.shuffle(BUFFER_SIZE, reshuffle_each_iteration=False)\n",
    "\n",
    "\n",
    "# One Hot Encode the Characters\n",
    "# https://stackoverflow.com/questions/49370940/one-hot-encoding-characters\n",
    "\n",
    "alphabet = \" abcdefghijklmnopqrstuvwxyzABCDEFGHIJKLMNOPQRSTUVWXYZ0123456789*+-.=/()?,'>:<!{}\"\n",
    "\n",
    "def convert_to_onehot_tensor(data):\n",
    "    \n",
    "    data = data.numpy().decode(\"utf-8\")\n",
    "    \n",
    "    #Creates a dict, that maps to every char of alphabet an unique int based on position\n",
    "    char_to_int = dict((c,i) for i,c in enumerate(alphabet))\n",
    "    encoded_data = []\n",
    "    #Replaces every char in data with the mapped int\n",
    "    \n",
    "    encoded_data.append([char_to_int[char] for char in data])\n",
    "    \n",
    "    encoded_data = encoded_data[0]\n",
    "    #This part now replaces the int by an one-hot array with size alphabet\n",
    "    one_hot = []\n",
    "    for value in encoded_data:\n",
    "        #At first, the whole array is initialized with 0\n",
    "        letter = [0 for _ in range(len(alphabet))]\n",
    "        #Only at the number of the int, 1 is written\n",
    "        letter[value] = 1\n",
    "        one_hot.append(letter)\n",
    "        \n",
    "    return tf.convert_to_tensor(one_hot)\n",
    "\n",
    "# Map to Python Function from Tensorflow\n",
    "\n",
    "def one_hot_encode_map(x):\n",
    "  return (tf.py_function(convert_to_onehot_tensor, inp=[x[0]], Tout=(tf.int32)), tf.py_function(convert_to_onehot_tensor, inp=[x[1]], Tout=(tf.int32)))\n",
    "        \n",
    "#Map all Datapoints to One Hot Labeled Datapoints Character Wise\n",
    "    \n",
    "all_labeled_data = all_labeled_data.map(one_hot_encode_map)\n",
    "\n",
    "        \n",
    "# Print out one Sample Inputs to see Format\n",
    "\n",
    "counter = 0\n",
    "for x,y in all_labeled_data:\n",
    "    print(x)\n",
    "    print(y)\n",
    "    counter = counter + 1\n",
    "    if(counter == 1):\n",
    "        break"
   ]
  },
  {
   "cell_type": "code",
   "execution_count": 71,
   "metadata": {},
   "outputs": [
    {
     "name": "stdout",
     "output_type": "stream",
     "text": [
      "[<TextLineDatasetV2 shapes: (), types: tf.string>, <TextLineDatasetV2 shapes: (), types: tf.string>, <TextLineDatasetV2 shapes: (), types: tf.string>]\n"
     ]
    }
   ],
   "source": [
    "print(labeled_data_sets)"
   ]
  },
  {
   "cell_type": "code",
   "execution_count": null,
   "metadata": {},
   "outputs": [],
   "source": []
  }
 ],
 "metadata": {
  "kernelspec": {
   "display_name": "Python 3",
   "language": "python",
   "name": "python3"
  },
  "language_info": {
   "codemirror_mode": {
    "name": "ipython",
    "version": 3
   },
   "file_extension": ".py",
   "mimetype": "text/x-python",
   "name": "python",
   "nbconvert_exporter": "python",
   "pygments_lexer": "ipython3",
   "version": "3.6.9"
  }
 },
 "nbformat": 4,
 "nbformat_minor": 2
}
